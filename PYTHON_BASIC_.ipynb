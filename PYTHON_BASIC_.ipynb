{
  "nbformat": 4,
  "nbformat_minor": 0,
  "metadata": {
    "colab": {
      "provenance": []
    },
    "kernelspec": {
      "name": "python3",
      "display_name": "Python 3"
    },
    "language_info": {
      "name": "python"
    }
  },
  "cells": [
    {
      "cell_type": "markdown",
      "source": [
        "#**python** **basics** **question**"
      ],
      "metadata": {
        "id": "n-9k6gMcmBls"
      }
    },
    {
      "cell_type": "markdown",
      "source": [
        "\n",
        "\n",
        "1. What is Python, and why is it popular?\n",
        ">>it is a high-level, interpreted programming language known for its simplicity, readability, and versatility.\n",
        "Popularity reasons:\n",
        "\n",
        "1 Simple syntax/easy to learn.\n",
        "2 Vast standard library and third-party packages.\n",
        "3 Large community support.\n",
        "4 Used in many domains.\n",
        "\n",
        "2. What is an interpreter in Python?\n",
        "\n",
        ">>An interpreter  executes Python code line-by-line, translating it into machine language at runtime. Python doesn't need compilation like C/C++; the interpreter handles execution directly.\n",
        "\n",
        "3. What are pre-defined keywords in Python?\n",
        ">> 1 They are reserved words in Python that have special meaning ( `if`, `else`, `for`, `while`, `True`, `None`, etc).\n",
        "  2 They define the structure and syntax of the language.\n",
        "  \n",
        "4. Can keywords be used as variable names?\n",
        ">>No. it cannot be used  as variable names because they are reserved for the language’s syntax and logic.\n",
        "\n",
        "Example=\n",
        "if = 5  #error syntax\n",
        "\n",
        " 5. What is mutability in Python?\n",
        ">>Mutability refers to whether an object can be changed after creation. it can be modified (e.g., lists, dictionaries).\n",
        ">>Immutable= Cannot be modified (e.g., strings, tuples).\n",
        "\n",
        " 6.Why are lists mutable, but tuples are immutable?\n",
        ">>Lists are designed for dynamic collections where elements may change.\n",
        ">>Tuples are used for fixed data, often to ensure data integrity.\n",
        "\n",
        " 7. What is the difference between `==` and `is` operators in Python?\n",
        ">>`==` checks **value equality** (are the values the same?).\n",
        ">>`is` checks **identity** (are they the **same object** in memory?).\n",
        "\n",
        "Example:\n",
        "a = [1, 4]\n",
        "b = [1, 4]\n",
        "a == b   True (same contents)\n",
        "a is b    False (different objects)\n",
        "\n",
        "8. What are logical operators in Python?\n",
        "Logical operators combine boolean expressions:\n",
        "1>`and`: True if **both** are True\n",
        "2>`or`: True if **at least one** is True\n",
        "3>`not`: Inverts the boolean value\n",
        "Example:\n",
        "a = True\n",
        "b = false\n",
        "print(a and b)  # false\n",
        "print(a or b)   # True\n",
        "print(not a)    # False\n",
        "\n",
        "9. What is type casting in Python?\n",
        ">> converts a variable from one type to another e.g., from `int` to `str`.\n",
        "\n",
        "Example:\n",
        "x = 5\n",
        "str_x = str(x)  #casting int into str\n",
        "\n",
        " 10. What is the difference between implicit and explicit type casting?\n",
        ">>Implicit= Python automatically converts the type.\n",
        " ex> x = 5 + 3.0  #int + float → result is float\n",
        ">>Explicit= You manually convert the type.\n",
        "  x = int(3.9)  # float → int (3.9) = 3\n",
        "   \n",
        "11 What is the purpose of conditional statements in Python?\n",
        ">>Conditional statements allow the program to make decisions and execute code based on certain conditions using `if`, `elif`, and `else`.\n",
        "\n",
        "12. How does the `elif` statement work?\n",
        ">>`elif` stands for \"else if\" and checks additional conditions if the previous `if` or `elif` was False.\n",
        "Example:\n",
        "x = 10\n",
        "if x > 10:\n",
        "    print(\"Greater\")\n",
        "elif x == 10:\n",
        "    print(\"Equal\")\n",
        "else:\n",
        "    print(\"Smaller\")\n",
        "\n",
        "13 What is the difference between `for` and `while` loops?**\n",
        ">>for`: Used when iterating over a sequence (e.g., list, range).\n",
        ">>while: Runs as long as a condition is True.\n",
        "\n",
        "14. Describe a scenario where a while loop is more suitable than a for loop.\n",
        ">> When the number of iterations is unknown, the loop should continue until a condition is no longer met.\n",
        "\n",
        "\n",
        "\n"
      ],
      "metadata": {
        "id": "tIs8qRxcnSdX"
      }
    },
    {
      "cell_type": "markdown",
      "source": [],
      "metadata": {
        "id": "LbM_Wbt3mQzN"
      }
    },
    {
      "cell_type": "markdown",
      "source": [],
      "metadata": {
        "id": "kVXJ3XN0m1gq"
      }
    },
    {
      "cell_type": "code",
      "source": [
        "#Write a Python program to print \"Hello, World!\n",
        "print(\"Hello,world!\")\n",
        "\n",
        "#Write a Python program that displays your name and age\n",
        "Name = \"Aparna_parihar\"\n",
        "Age = 24\n",
        "print(Name, Age)\n"
      ],
      "metadata": {
        "colab": {
          "base_uri": "https://localhost:8080/"
        },
        "id": "OTN4LyK0vSXV",
        "outputId": "6ce9969e-dff9-4656-e022-54f4d83a0fa0"
      },
      "execution_count": null,
      "outputs": [
        {
          "output_type": "stream",
          "name": "stdout",
          "text": [
            "Hello,world!\n",
            "Aparna_parihar 24\n"
          ]
        }
      ]
    },
    {
      "cell_type": "code",
      "source": [
        "#Write code to print all the pre-defined keywords in Python using the keyword library\n",
        "import keyword\n",
        "print(keyword.kwlist)\n",
        "\n",
        "# Write a program that checks if a given word is a Python keyword.\n",
        "word = input(\"Enter a word: \")\n",
        "if keyword.iskeyword(word):\n",
        "    print(f\"'{word}' is a Python keyword.\")\n",
        "else:\n",
        "    print(f\"'{word}' is not a Python keyword.\")\n"
      ],
      "metadata": {
        "colab": {
          "base_uri": "https://localhost:8080/"
        },
        "id": "L2SOTT8DxUKV",
        "outputId": "da764195-a2f2-407f-d5af-c4a85ff1dcc5"
      },
      "execution_count": null,
      "outputs": [
        {
          "output_type": "stream",
          "name": "stdout",
          "text": [
            "['False', 'None', 'True', 'and', 'as', 'assert', 'async', 'await', 'break', 'class', 'continue', 'def', 'del', 'elif', 'else', 'except', 'finally', 'for', 'from', 'global', 'if', 'import', 'in', 'is', 'lambda', 'nonlocal', 'not', 'or', 'pass', 'raise', 'return', 'try', 'while', 'with', 'yield']\n"
          ]
        }
      ]
    },
    {
      "cell_type": "code",
      "execution_count": 1,
      "metadata": {
        "id": "36859854",
        "colab": {
          "base_uri": "https://localhost:8080/"
        },
        "outputId": "f86d7ff8-bd53-490d-b138-eeac8e70c719"
      },
      "outputs": [
        {
          "output_type": "stream",
          "name": "stdout",
          "text": [
            "['a', 'b', 'c']\n",
            "('a', 'b', 'c')\n",
            "['a', 'e', 'c']\n",
            "There's an Error with tuple:  'tuple' object does not support item assignment\n"
          ]
        }
      ],
      "source": [
        "#create a list and tuple in python,and demonstrate how attempting to change an element works differently for each.\n",
        "A_list = [\"a\",\"b\",\"c\"]    # creating a list\n",
        "print(A_list)            # printing the list before modification\n",
        "\n",
        "A_tuple = (\"a\",\"b\",\"c\")   # creating a tuple\n",
        "print(A_tuple)          # printing the tuple before modification\n",
        "\n",
        "A_list[1] = \"e\" # modifying the list\n",
        "print(A_list)            # printing the list after modification\n",
        "\n",
        "try:\n",
        "    A_tuple[1] = \"e\" # trying to modify the tuple\n",
        "\n",
        "except TypeError as e:\n",
        "    print(\"There's an Error with tuple: \", e)            # printing the error message"
      ]
    },
    {
      "cell_type": "code",
      "execution_count": 2,
      "metadata": {
        "id": "f5158fb7",
        "colab": {
          "base_uri": "https://localhost:8080/"
        },
        "outputId": "90d968c7-e4b2-44dd-b885-7568e64e7238"
      },
      "outputs": [
        {
          "output_type": "stream",
          "name": "stdout",
          "text": [
            "Before calling the function the values of a and A_list outside the function:  10 [1, 2, 3]\n",
            "Inside the function: (11, [1, 2, 3, 4])\n",
            "After calling the function the values of a and A_list outside the function:  10 [1, 2, 3, 4]\n"
          ]
        }
      ],
      "source": [
        "#write a function to demonstrate the behavior of mutable and immutable arguments.\n",
        "a = 10  # an integer is immutable when passed as an argument\n",
        "\n",
        "A_list = [1,2,3]    # list is mutable when passed as an argument\n",
        "\n",
        "def modify_agrs(x,y):\n",
        "    x = x+1\n",
        "    y.append(4)\n",
        "    return x,y\n",
        "\n",
        "print(\"Before calling the function the values of a and A_list outside the function: \", a, A_list)  # a is 10, A_list is [1,2,3]\n",
        "print(\"Inside the function:\",modify_agrs(a,A_list))\n",
        "print(\"After calling the function the values of a and A_list outside the function: \", a, A_list)  # a is 10, A_list is [1,2,3,4]"
      ]
    },
    {
      "cell_type": "code",
      "execution_count": null,
      "metadata": {
        "id": "b6bd9bed"
      },
      "outputs": [],
      "source": [
        "#write a program that performs basic arithmetic operations or two user -input numbers.\n",
        "a = int(input(\"Enter the first number: \"))\n",
        "b = int(input(\"Enter the second number: \"))\n",
        "\n",
        "# Sum:\n",
        "sum = a+b\n",
        "print(\"Sum: \", sum)\n",
        "\n",
        "# Difference:\n",
        "differ = a-b\n",
        "print(\"Difference: \", differ)\n",
        "\n",
        "# Product:\n",
        "product = a*b\n",
        "print(\"Product: \", product)\n",
        "\n",
        "# Quotient:\n",
        "re_quo = a/b\n",
        "print(\"Regular Quotient: \", re_quo)\n",
        "\n",
        "flr_quo = a//b\n",
        "print(\"Floor Quotient: \", flr_quo)\n",
        "\n",
        "# Remainder:\n",
        "remainder = a%b\n",
        "print(\"Remainder: \", remainder)"
      ]
    },
    {
      "cell_type": "code",
      "execution_count": null,
      "metadata": {
        "id": "58f1a9c7"
      },
      "outputs": [],
      "source": [
        "#write a program to demonstarte the use of logical operators.\n",
        "a = 5\n",
        "b = 7\n",
        "\n",
        "# and\n",
        "print(a>10 and b<10) # False because a is not greater than 10\n",
        "\n",
        "# or\n",
        "print(a<10 or b>a) # True because b is greater than a\n",
        "\n",
        "# not\n",
        "print(not a<b) # False because a is not less than b\n",
        "print(not b<a) # True because b is not less than a"
      ]
    },
    {
      "cell_type": "code",
      "execution_count": 3,
      "metadata": {
        "id": "f6c0229c",
        "colab": {
          "base_uri": "https://localhost:8080/"
        },
        "outputId": "8c35c3fd-8165-479f-a96f-db2de4236af8"
      },
      "outputs": [
        {
          "output_type": "stream",
          "name": "stdout",
          "text": [
            "Enter something:24\n",
            "The datatype of the input is: <class 'str'>\n",
            "Interger value:  24\n",
            "<class 'int'>\n",
            "Float value:  24.0\n",
            "<class 'float'>\n",
            "Boolean value:  False\n",
            "<class 'bool'>\n"
          ]
        }
      ],
      "source": [
        "#write a python program to convert user iput from string to integer ,float ,and boolean types.\n",
        "a = input(\"Enter something:\")\n",
        "print(\"The datatype of the input is:\", type(a))\n",
        "\n",
        "# Coversion to integer\n",
        "try:\n",
        "    int_a = int(a)\n",
        "    print(\"Interger value: \", int_a)\n",
        "    print(type(int_a))\n",
        "except:\n",
        "    print(\"Invalid input, cannot convert to integer!\")\n",
        "\n",
        "# Coversion to float\n",
        "try:\n",
        "    float_a = float(a)\n",
        "    print(\"Float value: \", float_a)\n",
        "    print(type(float_a))\n",
        "except:\n",
        "    print(\"Invalid input, cannot convert to flaot!\")\n",
        "\n",
        "# Coversion to boolean\n",
        "bool_a = a.lower() in [\"true\", \"yes\", \"y\", \"1\"]  # is checking whether the lowercase version of the user's input matches any of the strings in the list ['true', '1', 'yes', 'y'].\n",
        "print(\"Boolean value: \", bool_a)\n",
        "print(type(bool_a))"
      ]
    },
    {
      "cell_type": "code",
      "execution_count": 4,
      "metadata": {
        "id": "bbc13e89",
        "colab": {
          "base_uri": "https://localhost:8080/"
        },
        "outputId": "6bba04ff-22f7-43c0-a465-132a6f4ad56d"
      },
      "outputs": [
        {
          "output_type": "stream",
          "name": "stdout",
          "text": [
            "The list before type casting to intergers:  ['1', '2', '3']\n",
            "and the type of the original list:  [<class 'str'>, <class 'str'>, <class 'str'>]\n",
            "The list after type casting to integer:  [1, 2, 3]\n",
            "and the type of the list after type casting:  [<class 'int'>, <class 'int'>, <class 'int'>]\n"
          ]
        }
      ],
      "source": [
        "#write code to demonstrate type casting with list elements.\n",
        "string_list = [\"1\",\"2\",\"3\"]\n",
        "print(\"The list before type casting to intergers: \", string_list)\n",
        "print(\"and the type of the original list: \", [type(i) for i in string_list])\n",
        "\n",
        "# type cast to integer\n",
        "integer_list = [int(i) for i in string_list]\n",
        "print(\"The list after type casting to integer: \", integer_list)\n",
        "print(\"and the type of the list after type casting: \", [type(i) for i in integer_list])"
      ]
    },
    {
      "cell_type": "code",
      "execution_count": null,
      "metadata": {
        "id": "24397058"
      },
      "outputs": [],
      "source": [
        "#write a program that checks if a number is positive ,negative ,or zero.\n",
        "num = float(input(\"Enter any number\"))\n",
        "print(\"The number you entered is: \", num)\n",
        "\n",
        "if num > 0:\n",
        "    print(\"The number is positive\")\n",
        "\n",
        "elif num < 0:\n",
        "    print(\"The number is negative\")\n",
        "\n",
        "else:\n",
        "    print(\"The number is zero\")"
      ]
    },
    {
      "cell_type": "code",
      "execution_count": null,
      "metadata": {
        "id": "e6d74abb"
      },
      "outputs": [],
      "source": [
        "#write a for loop to print numbers from 1 to 10.\n",
        "for i in range(1,11):\n",
        "    print(i)"
      ]
    },
    {
      "cell_type": "code",
      "execution_count": null,
      "metadata": {
        "id": "8f7c4b19"
      },
      "outputs": [],
      "source": [
        "#write a python program to find the sum of all even numbers between 1 and 50.\n",
        "sum = 0\n",
        "\n",
        "for i in range(1, 51):\n",
        "    if i % 2 == 0:\n",
        "        sum += i\n",
        "\n",
        "print(sum)"
      ]
    },
    {
      "cell_type": "code",
      "execution_count": null,
      "metadata": {
        "id": "dd3c50ed"
      },
      "outputs": [],
      "source": [
        "#write a program to reverse a string using a while loop.\n",
        "my_str = input(\"Enter a String\")\n",
        "print(\"The string you entered is: \",my_str)\n",
        "\n",
        "rev_str = \"\"\n",
        "i = len(my_str) - 1  # Start from the end of the string (for reverse iteration)\n",
        "\n",
        "while i>=0:\n",
        "    rev_str = rev_str + my_str[i]  # or rev_str += my_str[i]\n",
        "    i = i - 1\n",
        "\n",
        "print(\"The reversed string is: \", rev_str)"
      ]
    },
    {
      "cell_type": "code",
      "source": [
        "#Write a Python program to calculate the factorial of a number provided by the user using a while loop.\n",
        "num = int(input(\"Enter an integer\"))\n",
        "print(\"The integer you entered is: \", num)\n",
        "\n",
        "my_fact = 1\n",
        "\n",
        "while num > 0:\n",
        "    my_fact *= num\n",
        "    num -= 1\n",
        "\n",
        "print(my_fact)"
      ],
      "metadata": {
        "colab": {
          "base_uri": "https://localhost:8080/"
        },
        "id": "BdUecmzEaBMG",
        "outputId": "2cb074b5-61b3-4c85-e909-2f9db26ae7ef"
      },
      "execution_count": 5,
      "outputs": [
        {
          "output_type": "stream",
          "name": "stdout",
          "text": [
            "Enter an integer234\n",
            "The integer you entered is:  234\n",
            "22670150051024339208842996793945853659618105149432332891909162781453188496185286163298606516694886905607365190190959563064612945338703694136857684356961467817193275159683377314353662443780840896397239708288581036699483832395636246310971241224996315914676173236435465798388095261168098119711919219177465172417531870533071210963890951079600651352649259865692984172459046697905169775036847325733034393600000000000000000000000000000000000000000000000000000000\n"
          ]
        }
      ]
    },
    {
      "cell_type": "markdown",
      "source": [
        "ASSIGNMENT COMPLETED\n",
        "\n",
        "\n",
        "THANK YOU"
      ],
      "metadata": {
        "id": "7BKFrJELaUK7"
      }
    },
    {
      "cell_type": "code",
      "source": [],
      "metadata": {
        "id": "5Q_krI03aRpT"
      },
      "execution_count": null,
      "outputs": []
    }
  ]
}